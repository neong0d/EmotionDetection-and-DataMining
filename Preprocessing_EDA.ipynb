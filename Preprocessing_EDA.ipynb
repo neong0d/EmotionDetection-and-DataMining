{
  "nbformat": 4,
  "nbformat_minor": 0,
  "metadata": {
    "colab": {
      "provenance": []
    },
    "kernelspec": {
      "name": "python3",
      "display_name": "Python 3"
    },
    "language_info": {
      "name": "python"
    }
  },
  "cells": [
    {
      "cell_type": "code",
      "execution_count": null,
      "metadata": {
        "id": "lACS3ZwS_ost"
      },
      "outputs": [],
      "source": [
        "import numpy as np\n",
        "import pandas as pd\n",
        "\n",
        "import matplotlib.pyplot as plt\n",
        "import seaborn as sns"
      ]
    },
    {
      "cell_type": "code",
      "source": [
        "data = pd.read_csv('/content/drive/MyDrive/FINAL YEAR PROJECT/fer2013.csv')\n",
        "data.shape"
      ],
      "metadata": {
        "colab": {
          "base_uri": "https://localhost:8080/"
        },
        "id": "7gYyAz6GL0nF",
        "outputId": "72eadb59-46ea-41bd-eb37-e682bb1cb0bd"
      },
      "execution_count": null,
      "outputs": [
        {
          "output_type": "execute_result",
          "data": {
            "text/plain": [
              "(35887, 3)"
            ]
          },
          "metadata": {},
          "execution_count": 2
        }
      ]
    },
    {
      "cell_type": "code",
      "source": [
        "data.info()"
      ],
      "metadata": {
        "colab": {
          "base_uri": "https://localhost:8080/"
        },
        "id": "Y93rlIDCkPqH",
        "outputId": "fb3d40f3-f6e5-45ff-f934-003263af5a0a"
      },
      "execution_count": null,
      "outputs": [
        {
          "output_type": "stream",
          "name": "stdout",
          "text": [
            "<class 'pandas.core.frame.DataFrame'>\n",
            "RangeIndex: 35887 entries, 0 to 35886\n",
            "Data columns (total 3 columns):\n",
            " #   Column   Non-Null Count  Dtype \n",
            "---  ------   --------------  ----- \n",
            " 0   emotion  35887 non-null  int64 \n",
            " 1   pixels   35887 non-null  object\n",
            " 2   Usage    35887 non-null  object\n",
            "dtypes: int64(1), object(2)\n",
            "memory usage: 841.2+ KB\n"
          ]
        }
      ]
    },
    {
      "cell_type": "code",
      "source": [
        "data.describe()"
      ],
      "metadata": {
        "colab": {
          "base_uri": "https://localhost:8080/",
          "height": 300
        },
        "id": "vg232HckkSYm",
        "outputId": "e64e9123-d23c-4bde-fcc1-5e5b3f41432f"
      },
      "execution_count": null,
      "outputs": [
        {
          "output_type": "execute_result",
          "data": {
            "text/plain": [
              "            emotion\n",
              "count  35887.000000\n",
              "mean       3.323265\n",
              "std        1.873819\n",
              "min        0.000000\n",
              "25%        2.000000\n",
              "50%        3.000000\n",
              "75%        5.000000\n",
              "max        6.000000"
            ],
            "text/html": [
              "\n",
              "  <div id=\"df-70825d1a-cc50-4cf4-b4f2-f3247d4ed1a1\">\n",
              "    <div class=\"colab-df-container\">\n",
              "      <div>\n",
              "<style scoped>\n",
              "    .dataframe tbody tr th:only-of-type {\n",
              "        vertical-align: middle;\n",
              "    }\n",
              "\n",
              "    .dataframe tbody tr th {\n",
              "        vertical-align: top;\n",
              "    }\n",
              "\n",
              "    .dataframe thead th {\n",
              "        text-align: right;\n",
              "    }\n",
              "</style>\n",
              "<table border=\"1\" class=\"dataframe\">\n",
              "  <thead>\n",
              "    <tr style=\"text-align: right;\">\n",
              "      <th></th>\n",
              "      <th>emotion</th>\n",
              "    </tr>\n",
              "  </thead>\n",
              "  <tbody>\n",
              "    <tr>\n",
              "      <th>count</th>\n",
              "      <td>35887.000000</td>\n",
              "    </tr>\n",
              "    <tr>\n",
              "      <th>mean</th>\n",
              "      <td>3.323265</td>\n",
              "    </tr>\n",
              "    <tr>\n",
              "      <th>std</th>\n",
              "      <td>1.873819</td>\n",
              "    </tr>\n",
              "    <tr>\n",
              "      <th>min</th>\n",
              "      <td>0.000000</td>\n",
              "    </tr>\n",
              "    <tr>\n",
              "      <th>25%</th>\n",
              "      <td>2.000000</td>\n",
              "    </tr>\n",
              "    <tr>\n",
              "      <th>50%</th>\n",
              "      <td>3.000000</td>\n",
              "    </tr>\n",
              "    <tr>\n",
              "      <th>75%</th>\n",
              "      <td>5.000000</td>\n",
              "    </tr>\n",
              "    <tr>\n",
              "      <th>max</th>\n",
              "      <td>6.000000</td>\n",
              "    </tr>\n",
              "  </tbody>\n",
              "</table>\n",
              "</div>\n",
              "      <button class=\"colab-df-convert\" onclick=\"convertToInteractive('df-70825d1a-cc50-4cf4-b4f2-f3247d4ed1a1')\"\n",
              "              title=\"Convert this dataframe to an interactive table.\"\n",
              "              style=\"display:none;\">\n",
              "        \n",
              "  <svg xmlns=\"http://www.w3.org/2000/svg\" height=\"24px\"viewBox=\"0 0 24 24\"\n",
              "       width=\"24px\">\n",
              "    <path d=\"M0 0h24v24H0V0z\" fill=\"none\"/>\n",
              "    <path d=\"M18.56 5.44l.94 2.06.94-2.06 2.06-.94-2.06-.94-.94-2.06-.94 2.06-2.06.94zm-11 1L8.5 8.5l.94-2.06 2.06-.94-2.06-.94L8.5 2.5l-.94 2.06-2.06.94zm10 10l.94 2.06.94-2.06 2.06-.94-2.06-.94-.94-2.06-.94 2.06-2.06.94z\"/><path d=\"M17.41 7.96l-1.37-1.37c-.4-.4-.92-.59-1.43-.59-.52 0-1.04.2-1.43.59L10.3 9.45l-7.72 7.72c-.78.78-.78 2.05 0 2.83L4 21.41c.39.39.9.59 1.41.59.51 0 1.02-.2 1.41-.59l7.78-7.78 2.81-2.81c.8-.78.8-2.07 0-2.86zM5.41 20L4 18.59l7.72-7.72 1.47 1.35L5.41 20z\"/>\n",
              "  </svg>\n",
              "      </button>\n",
              "      \n",
              "  <style>\n",
              "    .colab-df-container {\n",
              "      display:flex;\n",
              "      flex-wrap:wrap;\n",
              "      gap: 12px;\n",
              "    }\n",
              "\n",
              "    .colab-df-convert {\n",
              "      background-color: #E8F0FE;\n",
              "      border: none;\n",
              "      border-radius: 50%;\n",
              "      cursor: pointer;\n",
              "      display: none;\n",
              "      fill: #1967D2;\n",
              "      height: 32px;\n",
              "      padding: 0 0 0 0;\n",
              "      width: 32px;\n",
              "    }\n",
              "\n",
              "    .colab-df-convert:hover {\n",
              "      background-color: #E2EBFA;\n",
              "      box-shadow: 0px 1px 2px rgba(60, 64, 67, 0.3), 0px 1px 3px 1px rgba(60, 64, 67, 0.15);\n",
              "      fill: #174EA6;\n",
              "    }\n",
              "\n",
              "    [theme=dark] .colab-df-convert {\n",
              "      background-color: #3B4455;\n",
              "      fill: #D2E3FC;\n",
              "    }\n",
              "\n",
              "    [theme=dark] .colab-df-convert:hover {\n",
              "      background-color: #434B5C;\n",
              "      box-shadow: 0px 1px 3px 1px rgba(0, 0, 0, 0.15);\n",
              "      filter: drop-shadow(0px 1px 2px rgba(0, 0, 0, 0.3));\n",
              "      fill: #FFFFFF;\n",
              "    }\n",
              "  </style>\n",
              "\n",
              "      <script>\n",
              "        const buttonEl =\n",
              "          document.querySelector('#df-70825d1a-cc50-4cf4-b4f2-f3247d4ed1a1 button.colab-df-convert');\n",
              "        buttonEl.style.display =\n",
              "          google.colab.kernel.accessAllowed ? 'block' : 'none';\n",
              "\n",
              "        async function convertToInteractive(key) {\n",
              "          const element = document.querySelector('#df-70825d1a-cc50-4cf4-b4f2-f3247d4ed1a1');\n",
              "          const dataTable =\n",
              "            await google.colab.kernel.invokeFunction('convertToInteractive',\n",
              "                                                     [key], {});\n",
              "          if (!dataTable) return;\n",
              "\n",
              "          const docLinkHtml = 'Like what you see? Visit the ' +\n",
              "            '<a target=\"_blank\" href=https://colab.research.google.com/notebooks/data_table.ipynb>data table notebook</a>'\n",
              "            + ' to learn more about interactive tables.';\n",
              "          element.innerHTML = '';\n",
              "          dataTable['output_type'] = 'display_data';\n",
              "          await google.colab.output.renderOutput(dataTable, element);\n",
              "          const docLink = document.createElement('div');\n",
              "          docLink.innerHTML = docLinkHtml;\n",
              "          element.appendChild(docLink);\n",
              "        }\n",
              "      </script>\n",
              "    </div>\n",
              "  </div>\n",
              "  "
            ]
          },
          "metadata": {},
          "execution_count": 3
        }
      ]
    },
    {
      "cell_type": "code",
      "source": [
        "data.emotion.max"
      ],
      "metadata": {
        "colab": {
          "base_uri": "https://localhost:8080/"
        },
        "id": "99fCengQk3HQ",
        "outputId": "6393ac46-67dc-4379-9b59-1323892f1e7d"
      },
      "execution_count": null,
      "outputs": [
        {
          "output_type": "execute_result",
          "data": {
            "text/plain": [
              "<bound method NDFrame._add_numeric_operations.<locals>.max of 0        0\n",
              "1        0\n",
              "2        2\n",
              "3        4\n",
              "4        6\n",
              "        ..\n",
              "35882    6\n",
              "35883    3\n",
              "35884    0\n",
              "35885    3\n",
              "35886    2\n",
              "Name: emotion, Length: 35887, dtype: int64>"
            ]
          },
          "metadata": {},
          "execution_count": 5
        }
      ]
    },
    {
      "cell_type": "code",
      "source": [
        "data.head(10)"
      ],
      "metadata": {
        "colab": {
          "base_uri": "https://localhost:8080/",
          "height": 363
        },
        "id": "nSMtLL7aPF2D",
        "outputId": "f9beec66-b115-43ee-c2a4-25167bbb3d34"
      },
      "execution_count": null,
      "outputs": [
        {
          "output_type": "execute_result",
          "data": {
            "text/plain": [
              "   emotion                                             pixels     Usage\n",
              "0        0  70 80 82 72 58 58 60 63 54 58 60 48 89 115 121...  Training\n",
              "1        0  151 150 147 155 148 133 111 140 170 174 182 15...  Training\n",
              "2        2  231 212 156 164 174 138 161 173 182 200 106 38...  Training\n",
              "3        4  24 32 36 30 32 23 19 20 30 41 21 22 32 34 21 1...  Training\n",
              "4        6  4 0 0 0 0 0 0 0 0 0 0 0 3 15 23 28 48 50 58 84...  Training\n",
              "5        2  55 55 55 55 55 54 60 68 54 85 151 163 170 179 ...  Training\n",
              "6        4  20 17 19 21 25 38 42 42 46 54 56 62 63 66 82 1...  Training\n",
              "7        3  77 78 79 79 78 75 60 55 47 48 58 73 77 79 57 5...  Training\n",
              "8        3  85 84 90 121 101 102 133 153 153 169 177 189 1...  Training\n",
              "9        2  255 254 255 254 254 179 122 107 95 124 149 150...  Training"
            ],
            "text/html": [
              "\n",
              "  <div id=\"df-b65fc461-a359-44cd-a6cb-ead6870eaec5\">\n",
              "    <div class=\"colab-df-container\">\n",
              "      <div>\n",
              "<style scoped>\n",
              "    .dataframe tbody tr th:only-of-type {\n",
              "        vertical-align: middle;\n",
              "    }\n",
              "\n",
              "    .dataframe tbody tr th {\n",
              "        vertical-align: top;\n",
              "    }\n",
              "\n",
              "    .dataframe thead th {\n",
              "        text-align: right;\n",
              "    }\n",
              "</style>\n",
              "<table border=\"1\" class=\"dataframe\">\n",
              "  <thead>\n",
              "    <tr style=\"text-align: right;\">\n",
              "      <th></th>\n",
              "      <th>emotion</th>\n",
              "      <th>pixels</th>\n",
              "      <th>Usage</th>\n",
              "    </tr>\n",
              "  </thead>\n",
              "  <tbody>\n",
              "    <tr>\n",
              "      <th>0</th>\n",
              "      <td>0</td>\n",
              "      <td>70 80 82 72 58 58 60 63 54 58 60 48 89 115 121...</td>\n",
              "      <td>Training</td>\n",
              "    </tr>\n",
              "    <tr>\n",
              "      <th>1</th>\n",
              "      <td>0</td>\n",
              "      <td>151 150 147 155 148 133 111 140 170 174 182 15...</td>\n",
              "      <td>Training</td>\n",
              "    </tr>\n",
              "    <tr>\n",
              "      <th>2</th>\n",
              "      <td>2</td>\n",
              "      <td>231 212 156 164 174 138 161 173 182 200 106 38...</td>\n",
              "      <td>Training</td>\n",
              "    </tr>\n",
              "    <tr>\n",
              "      <th>3</th>\n",
              "      <td>4</td>\n",
              "      <td>24 32 36 30 32 23 19 20 30 41 21 22 32 34 21 1...</td>\n",
              "      <td>Training</td>\n",
              "    </tr>\n",
              "    <tr>\n",
              "      <th>4</th>\n",
              "      <td>6</td>\n",
              "      <td>4 0 0 0 0 0 0 0 0 0 0 0 3 15 23 28 48 50 58 84...</td>\n",
              "      <td>Training</td>\n",
              "    </tr>\n",
              "    <tr>\n",
              "      <th>5</th>\n",
              "      <td>2</td>\n",
              "      <td>55 55 55 55 55 54 60 68 54 85 151 163 170 179 ...</td>\n",
              "      <td>Training</td>\n",
              "    </tr>\n",
              "    <tr>\n",
              "      <th>6</th>\n",
              "      <td>4</td>\n",
              "      <td>20 17 19 21 25 38 42 42 46 54 56 62 63 66 82 1...</td>\n",
              "      <td>Training</td>\n",
              "    </tr>\n",
              "    <tr>\n",
              "      <th>7</th>\n",
              "      <td>3</td>\n",
              "      <td>77 78 79 79 78 75 60 55 47 48 58 73 77 79 57 5...</td>\n",
              "      <td>Training</td>\n",
              "    </tr>\n",
              "    <tr>\n",
              "      <th>8</th>\n",
              "      <td>3</td>\n",
              "      <td>85 84 90 121 101 102 133 153 153 169 177 189 1...</td>\n",
              "      <td>Training</td>\n",
              "    </tr>\n",
              "    <tr>\n",
              "      <th>9</th>\n",
              "      <td>2</td>\n",
              "      <td>255 254 255 254 254 179 122 107 95 124 149 150...</td>\n",
              "      <td>Training</td>\n",
              "    </tr>\n",
              "  </tbody>\n",
              "</table>\n",
              "</div>\n",
              "      <button class=\"colab-df-convert\" onclick=\"convertToInteractive('df-b65fc461-a359-44cd-a6cb-ead6870eaec5')\"\n",
              "              title=\"Convert this dataframe to an interactive table.\"\n",
              "              style=\"display:none;\">\n",
              "        \n",
              "  <svg xmlns=\"http://www.w3.org/2000/svg\" height=\"24px\"viewBox=\"0 0 24 24\"\n",
              "       width=\"24px\">\n",
              "    <path d=\"M0 0h24v24H0V0z\" fill=\"none\"/>\n",
              "    <path d=\"M18.56 5.44l.94 2.06.94-2.06 2.06-.94-2.06-.94-.94-2.06-.94 2.06-2.06.94zm-11 1L8.5 8.5l.94-2.06 2.06-.94-2.06-.94L8.5 2.5l-.94 2.06-2.06.94zm10 10l.94 2.06.94-2.06 2.06-.94-2.06-.94-.94-2.06-.94 2.06-2.06.94z\"/><path d=\"M17.41 7.96l-1.37-1.37c-.4-.4-.92-.59-1.43-.59-.52 0-1.04.2-1.43.59L10.3 9.45l-7.72 7.72c-.78.78-.78 2.05 0 2.83L4 21.41c.39.39.9.59 1.41.59.51 0 1.02-.2 1.41-.59l7.78-7.78 2.81-2.81c.8-.78.8-2.07 0-2.86zM5.41 20L4 18.59l7.72-7.72 1.47 1.35L5.41 20z\"/>\n",
              "  </svg>\n",
              "      </button>\n",
              "      \n",
              "  <style>\n",
              "    .colab-df-container {\n",
              "      display:flex;\n",
              "      flex-wrap:wrap;\n",
              "      gap: 12px;\n",
              "    }\n",
              "\n",
              "    .colab-df-convert {\n",
              "      background-color: #E8F0FE;\n",
              "      border: none;\n",
              "      border-radius: 50%;\n",
              "      cursor: pointer;\n",
              "      display: none;\n",
              "      fill: #1967D2;\n",
              "      height: 32px;\n",
              "      padding: 0 0 0 0;\n",
              "      width: 32px;\n",
              "    }\n",
              "\n",
              "    .colab-df-convert:hover {\n",
              "      background-color: #E2EBFA;\n",
              "      box-shadow: 0px 1px 2px rgba(60, 64, 67, 0.3), 0px 1px 3px 1px rgba(60, 64, 67, 0.15);\n",
              "      fill: #174EA6;\n",
              "    }\n",
              "\n",
              "    [theme=dark] .colab-df-convert {\n",
              "      background-color: #3B4455;\n",
              "      fill: #D2E3FC;\n",
              "    }\n",
              "\n",
              "    [theme=dark] .colab-df-convert:hover {\n",
              "      background-color: #434B5C;\n",
              "      box-shadow: 0px 1px 3px 1px rgba(0, 0, 0, 0.15);\n",
              "      filter: drop-shadow(0px 1px 2px rgba(0, 0, 0, 0.3));\n",
              "      fill: #FFFFFF;\n",
              "    }\n",
              "  </style>\n",
              "\n",
              "      <script>\n",
              "        const buttonEl =\n",
              "          document.querySelector('#df-b65fc461-a359-44cd-a6cb-ead6870eaec5 button.colab-df-convert');\n",
              "        buttonEl.style.display =\n",
              "          google.colab.kernel.accessAllowed ? 'block' : 'none';\n",
              "\n",
              "        async function convertToInteractive(key) {\n",
              "          const element = document.querySelector('#df-b65fc461-a359-44cd-a6cb-ead6870eaec5');\n",
              "          const dataTable =\n",
              "            await google.colab.kernel.invokeFunction('convertToInteractive',\n",
              "                                                     [key], {});\n",
              "          if (!dataTable) return;\n",
              "\n",
              "          const docLinkHtml = 'Like what you see? Visit the ' +\n",
              "            '<a target=\"_blank\" href=https://colab.research.google.com/notebooks/data_table.ipynb>data table notebook</a>'\n",
              "            + ' to learn more about interactive tables.';\n",
              "          element.innerHTML = '';\n",
              "          dataTable['output_type'] = 'display_data';\n",
              "          await google.colab.output.renderOutput(dataTable, element);\n",
              "          const docLink = document.createElement('div');\n",
              "          docLink.innerHTML = docLinkHtml;\n",
              "          element.appendChild(docLink);\n",
              "        }\n",
              "      </script>\n",
              "    </div>\n",
              "  </div>\n",
              "  "
            ]
          },
          "metadata": {},
          "execution_count": 17
        }
      ]
    },
    {
      "cell_type": "code",
      "source": [
        "data.Usage.value_counts()"
      ],
      "metadata": {
        "colab": {
          "base_uri": "https://localhost:8080/"
        },
        "id": "CXMu7FT5Pe51",
        "outputId": "bc0d5729-0b21-446a-9427-a9c09316286e"
      },
      "execution_count": null,
      "outputs": [
        {
          "output_type": "execute_result",
          "data": {
            "text/plain": [
              "Training       28709\n",
              "PublicTest      3589\n",
              "PrivateTest     3589\n",
              "Name: Usage, dtype: int64"
            ]
          },
          "metadata": {},
          "execution_count": 13
        }
      ]
    },
    {
      "cell_type": "code",
      "source": [
        "emotion_map = {0: 'Angry', 1: 'Digust', 2: 'Fear', 3: 'Happy', 4: 'Sad', 5: 'Surprise', 6: 'Neutral'}\n",
        "emotion_counts = data['emotion'].value_counts(sort=False).reset_index()\n",
        "emotion_counts.columns = ['emotion', 'number']\n",
        "emotion_counts['emotion'] = emotion_counts['emotion'].map(emotion_map)\n",
        "emotion_counts"
      ],
      "metadata": {
        "colab": {
          "base_uri": "https://localhost:8080/",
          "height": 269
        },
        "id": "5uXNyvOzPkld",
        "outputId": "b2631567-3ea9-42fa-867a-a4c27aeb5193"
      },
      "execution_count": null,
      "outputs": [
        {
          "output_type": "execute_result",
          "data": {
            "text/plain": [
              "    emotion  number\n",
              "0     Angry    4953\n",
              "1      Fear    5121\n",
              "2       Sad    6077\n",
              "3   Neutral    6198\n",
              "4     Happy    8989\n",
              "5  Surprise    4002\n",
              "6    Digust     547"
            ],
            "text/html": [
              "\n",
              "  <div id=\"df-7b5118f6-58e4-4eb0-97b6-5babfb38c889\">\n",
              "    <div class=\"colab-df-container\">\n",
              "      <div>\n",
              "<style scoped>\n",
              "    .dataframe tbody tr th:only-of-type {\n",
              "        vertical-align: middle;\n",
              "    }\n",
              "\n",
              "    .dataframe tbody tr th {\n",
              "        vertical-align: top;\n",
              "    }\n",
              "\n",
              "    .dataframe thead th {\n",
              "        text-align: right;\n",
              "    }\n",
              "</style>\n",
              "<table border=\"1\" class=\"dataframe\">\n",
              "  <thead>\n",
              "    <tr style=\"text-align: right;\">\n",
              "      <th></th>\n",
              "      <th>emotion</th>\n",
              "      <th>number</th>\n",
              "    </tr>\n",
              "  </thead>\n",
              "  <tbody>\n",
              "    <tr>\n",
              "      <th>0</th>\n",
              "      <td>Angry</td>\n",
              "      <td>4953</td>\n",
              "    </tr>\n",
              "    <tr>\n",
              "      <th>1</th>\n",
              "      <td>Fear</td>\n",
              "      <td>5121</td>\n",
              "    </tr>\n",
              "    <tr>\n",
              "      <th>2</th>\n",
              "      <td>Sad</td>\n",
              "      <td>6077</td>\n",
              "    </tr>\n",
              "    <tr>\n",
              "      <th>3</th>\n",
              "      <td>Neutral</td>\n",
              "      <td>6198</td>\n",
              "    </tr>\n",
              "    <tr>\n",
              "      <th>4</th>\n",
              "      <td>Happy</td>\n",
              "      <td>8989</td>\n",
              "    </tr>\n",
              "    <tr>\n",
              "      <th>5</th>\n",
              "      <td>Surprise</td>\n",
              "      <td>4002</td>\n",
              "    </tr>\n",
              "    <tr>\n",
              "      <th>6</th>\n",
              "      <td>Digust</td>\n",
              "      <td>547</td>\n",
              "    </tr>\n",
              "  </tbody>\n",
              "</table>\n",
              "</div>\n",
              "      <button class=\"colab-df-convert\" onclick=\"convertToInteractive('df-7b5118f6-58e4-4eb0-97b6-5babfb38c889')\"\n",
              "              title=\"Convert this dataframe to an interactive table.\"\n",
              "              style=\"display:none;\">\n",
              "        \n",
              "  <svg xmlns=\"http://www.w3.org/2000/svg\" height=\"24px\"viewBox=\"0 0 24 24\"\n",
              "       width=\"24px\">\n",
              "    <path d=\"M0 0h24v24H0V0z\" fill=\"none\"/>\n",
              "    <path d=\"M18.56 5.44l.94 2.06.94-2.06 2.06-.94-2.06-.94-.94-2.06-.94 2.06-2.06.94zm-11 1L8.5 8.5l.94-2.06 2.06-.94-2.06-.94L8.5 2.5l-.94 2.06-2.06.94zm10 10l.94 2.06.94-2.06 2.06-.94-2.06-.94-.94-2.06-.94 2.06-2.06.94z\"/><path d=\"M17.41 7.96l-1.37-1.37c-.4-.4-.92-.59-1.43-.59-.52 0-1.04.2-1.43.59L10.3 9.45l-7.72 7.72c-.78.78-.78 2.05 0 2.83L4 21.41c.39.39.9.59 1.41.59.51 0 1.02-.2 1.41-.59l7.78-7.78 2.81-2.81c.8-.78.8-2.07 0-2.86zM5.41 20L4 18.59l7.72-7.72 1.47 1.35L5.41 20z\"/>\n",
              "  </svg>\n",
              "      </button>\n",
              "      \n",
              "  <style>\n",
              "    .colab-df-container {\n",
              "      display:flex;\n",
              "      flex-wrap:wrap;\n",
              "      gap: 12px;\n",
              "    }\n",
              "\n",
              "    .colab-df-convert {\n",
              "      background-color: #E8F0FE;\n",
              "      border: none;\n",
              "      border-radius: 50%;\n",
              "      cursor: pointer;\n",
              "      display: none;\n",
              "      fill: #1967D2;\n",
              "      height: 32px;\n",
              "      padding: 0 0 0 0;\n",
              "      width: 32px;\n",
              "    }\n",
              "\n",
              "    .colab-df-convert:hover {\n",
              "      background-color: #E2EBFA;\n",
              "      box-shadow: 0px 1px 2px rgba(60, 64, 67, 0.3), 0px 1px 3px 1px rgba(60, 64, 67, 0.15);\n",
              "      fill: #174EA6;\n",
              "    }\n",
              "\n",
              "    [theme=dark] .colab-df-convert {\n",
              "      background-color: #3B4455;\n",
              "      fill: #D2E3FC;\n",
              "    }\n",
              "\n",
              "    [theme=dark] .colab-df-convert:hover {\n",
              "      background-color: #434B5C;\n",
              "      box-shadow: 0px 1px 3px 1px rgba(0, 0, 0, 0.15);\n",
              "      filter: drop-shadow(0px 1px 2px rgba(0, 0, 0, 0.3));\n",
              "      fill: #FFFFFF;\n",
              "    }\n",
              "  </style>\n",
              "\n",
              "      <script>\n",
              "        const buttonEl =\n",
              "          document.querySelector('#df-7b5118f6-58e4-4eb0-97b6-5babfb38c889 button.colab-df-convert');\n",
              "        buttonEl.style.display =\n",
              "          google.colab.kernel.accessAllowed ? 'block' : 'none';\n",
              "\n",
              "        async function convertToInteractive(key) {\n",
              "          const element = document.querySelector('#df-7b5118f6-58e4-4eb0-97b6-5babfb38c889');\n",
              "          const dataTable =\n",
              "            await google.colab.kernel.invokeFunction('convertToInteractive',\n",
              "                                                     [key], {});\n",
              "          if (!dataTable) return;\n",
              "\n",
              "          const docLinkHtml = 'Like what you see? Visit the ' +\n",
              "            '<a target=\"_blank\" href=https://colab.research.google.com/notebooks/data_table.ipynb>data table notebook</a>'\n",
              "            + ' to learn more about interactive tables.';\n",
              "          element.innerHTML = '';\n",
              "          dataTable['output_type'] = 'display_data';\n",
              "          await google.colab.output.renderOutput(dataTable, element);\n",
              "          const docLink = document.createElement('div');\n",
              "          docLink.innerHTML = docLinkHtml;\n",
              "          element.appendChild(docLink);\n",
              "        }\n",
              "      </script>\n",
              "    </div>\n",
              "  </div>\n",
              "  "
            ]
          },
          "metadata": {},
          "execution_count": 4
        }
      ]
    },
    {
      "cell_type": "code",
      "source": [
        "emotion_map = {0: 'Angry', 1: 'Digust', 2: 'Fear', 3: 'Happy', 4: 'Sad', 5: 'Surprise', 6: 'Neutral'}"
      ],
      "metadata": {
        "id": "6lOQ7NWyGFBP"
      },
      "execution_count": null,
      "outputs": []
    },
    {
      "cell_type": "code",
      "source": [
        "data['emotion'].value_counts(sort=False).reset_index()"
      ],
      "metadata": {
        "colab": {
          "base_uri": "https://localhost:8080/",
          "height": 269
        },
        "id": "FvbeFKnkFQjT",
        "outputId": "ec72defe-94b8-4af5-a95b-e582b93daf5b"
      },
      "execution_count": null,
      "outputs": [
        {
          "output_type": "execute_result",
          "data": {
            "text/plain": [
              "   index  emotion\n",
              "0      0     4953\n",
              "1      2     5121\n",
              "2      4     6077\n",
              "3      6     6198\n",
              "4      3     8989\n",
              "5      5     4002\n",
              "6      1      547"
            ],
            "text/html": [
              "\n",
              "  <div id=\"df-27b08341-67ea-4d17-8474-0d808738278b\">\n",
              "    <div class=\"colab-df-container\">\n",
              "      <div>\n",
              "<style scoped>\n",
              "    .dataframe tbody tr th:only-of-type {\n",
              "        vertical-align: middle;\n",
              "    }\n",
              "\n",
              "    .dataframe tbody tr th {\n",
              "        vertical-align: top;\n",
              "    }\n",
              "\n",
              "    .dataframe thead th {\n",
              "        text-align: right;\n",
              "    }\n",
              "</style>\n",
              "<table border=\"1\" class=\"dataframe\">\n",
              "  <thead>\n",
              "    <tr style=\"text-align: right;\">\n",
              "      <th></th>\n",
              "      <th>index</th>\n",
              "      <th>emotion</th>\n",
              "    </tr>\n",
              "  </thead>\n",
              "  <tbody>\n",
              "    <tr>\n",
              "      <th>0</th>\n",
              "      <td>0</td>\n",
              "      <td>4953</td>\n",
              "    </tr>\n",
              "    <tr>\n",
              "      <th>1</th>\n",
              "      <td>2</td>\n",
              "      <td>5121</td>\n",
              "    </tr>\n",
              "    <tr>\n",
              "      <th>2</th>\n",
              "      <td>4</td>\n",
              "      <td>6077</td>\n",
              "    </tr>\n",
              "    <tr>\n",
              "      <th>3</th>\n",
              "      <td>6</td>\n",
              "      <td>6198</td>\n",
              "    </tr>\n",
              "    <tr>\n",
              "      <th>4</th>\n",
              "      <td>3</td>\n",
              "      <td>8989</td>\n",
              "    </tr>\n",
              "    <tr>\n",
              "      <th>5</th>\n",
              "      <td>5</td>\n",
              "      <td>4002</td>\n",
              "    </tr>\n",
              "    <tr>\n",
              "      <th>6</th>\n",
              "      <td>1</td>\n",
              "      <td>547</td>\n",
              "    </tr>\n",
              "  </tbody>\n",
              "</table>\n",
              "</div>\n",
              "      <button class=\"colab-df-convert\" onclick=\"convertToInteractive('df-27b08341-67ea-4d17-8474-0d808738278b')\"\n",
              "              title=\"Convert this dataframe to an interactive table.\"\n",
              "              style=\"display:none;\">\n",
              "        \n",
              "  <svg xmlns=\"http://www.w3.org/2000/svg\" height=\"24px\"viewBox=\"0 0 24 24\"\n",
              "       width=\"24px\">\n",
              "    <path d=\"M0 0h24v24H0V0z\" fill=\"none\"/>\n",
              "    <path d=\"M18.56 5.44l.94 2.06.94-2.06 2.06-.94-2.06-.94-.94-2.06-.94 2.06-2.06.94zm-11 1L8.5 8.5l.94-2.06 2.06-.94-2.06-.94L8.5 2.5l-.94 2.06-2.06.94zm10 10l.94 2.06.94-2.06 2.06-.94-2.06-.94-.94-2.06-.94 2.06-2.06.94z\"/><path d=\"M17.41 7.96l-1.37-1.37c-.4-.4-.92-.59-1.43-.59-.52 0-1.04.2-1.43.59L10.3 9.45l-7.72 7.72c-.78.78-.78 2.05 0 2.83L4 21.41c.39.39.9.59 1.41.59.51 0 1.02-.2 1.41-.59l7.78-7.78 2.81-2.81c.8-.78.8-2.07 0-2.86zM5.41 20L4 18.59l7.72-7.72 1.47 1.35L5.41 20z\"/>\n",
              "  </svg>\n",
              "      </button>\n",
              "      \n",
              "  <style>\n",
              "    .colab-df-container {\n",
              "      display:flex;\n",
              "      flex-wrap:wrap;\n",
              "      gap: 12px;\n",
              "    }\n",
              "\n",
              "    .colab-df-convert {\n",
              "      background-color: #E8F0FE;\n",
              "      border: none;\n",
              "      border-radius: 50%;\n",
              "      cursor: pointer;\n",
              "      display: none;\n",
              "      fill: #1967D2;\n",
              "      height: 32px;\n",
              "      padding: 0 0 0 0;\n",
              "      width: 32px;\n",
              "    }\n",
              "\n",
              "    .colab-df-convert:hover {\n",
              "      background-color: #E2EBFA;\n",
              "      box-shadow: 0px 1px 2px rgba(60, 64, 67, 0.3), 0px 1px 3px 1px rgba(60, 64, 67, 0.15);\n",
              "      fill: #174EA6;\n",
              "    }\n",
              "\n",
              "    [theme=dark] .colab-df-convert {\n",
              "      background-color: #3B4455;\n",
              "      fill: #D2E3FC;\n",
              "    }\n",
              "\n",
              "    [theme=dark] .colab-df-convert:hover {\n",
              "      background-color: #434B5C;\n",
              "      box-shadow: 0px 1px 3px 1px rgba(0, 0, 0, 0.15);\n",
              "      filter: drop-shadow(0px 1px 2px rgba(0, 0, 0, 0.3));\n",
              "      fill: #FFFFFF;\n",
              "    }\n",
              "  </style>\n",
              "\n",
              "      <script>\n",
              "        const buttonEl =\n",
              "          document.querySelector('#df-27b08341-67ea-4d17-8474-0d808738278b button.colab-df-convert');\n",
              "        buttonEl.style.display =\n",
              "          google.colab.kernel.accessAllowed ? 'block' : 'none';\n",
              "\n",
              "        async function convertToInteractive(key) {\n",
              "          const element = document.querySelector('#df-27b08341-67ea-4d17-8474-0d808738278b');\n",
              "          const dataTable =\n",
              "            await google.colab.kernel.invokeFunction('convertToInteractive',\n",
              "                                                     [key], {});\n",
              "          if (!dataTable) return;\n",
              "\n",
              "          const docLinkHtml = 'Like what you see? Visit the ' +\n",
              "            '<a target=\"_blank\" href=https://colab.research.google.com/notebooks/data_table.ipynb>data table notebook</a>'\n",
              "            + ' to learn more about interactive tables.';\n",
              "          element.innerHTML = '';\n",
              "          dataTable['output_type'] = 'display_data';\n",
              "          await google.colab.output.renderOutput(dataTable, element);\n",
              "          const docLink = document.createElement('div');\n",
              "          docLink.innerHTML = docLinkHtml;\n",
              "          element.appendChild(docLink);\n",
              "        }\n",
              "      </script>\n",
              "    </div>\n",
              "  </div>\n",
              "  "
            ]
          },
          "metadata": {},
          "execution_count": 80
        }
      ]
    },
    {
      "cell_type": "code",
      "source": [
        "plt.figure(figsize=(8,8))\n",
        "sns.barplot(emotion_counts.emotion, emotion_counts.number)\n",
        "plt.title('Class distribution')\n",
        "plt.ylabel('Number', fontsize=14)\n",
        "plt.xlabel('Emotions', fontsize=14)\n",
        "plt.show()"
      ],
      "metadata": {
        "colab": {
          "base_uri": "https://localhost:8080/",
          "height": 572
        },
        "id": "qyOxqfLOPqG4",
        "outputId": "7aae1e89-5a13-4c05-c9df-f60b3f2e9567"
      },
      "execution_count": null,
      "outputs": [
        {
          "output_type": "stream",
          "name": "stderr",
          "text": [
            "/usr/local/lib/python3.7/dist-packages/seaborn/_decorators.py:43: FutureWarning: Pass the following variables as keyword args: x, y. From version 0.12, the only valid positional argument will be `data`, and passing other arguments without an explicit keyword will result in an error or misinterpretation.\n",
            "  FutureWarning\n"
          ]
        },
        {
          "output_type": "display_data",
          "data": {
            "text/plain": [
              "<Figure size 576x576 with 1 Axes>"
            ],
            "image/png": "[encoded data removed]"
          },
          "metadata": {
            "needs_background": "light"
          }
        }
      ]
    },
    {
      "cell_type": "code",
      "source": [
        "pixels = data.pixels.iloc[0].split()\n",
        "len(pixels)"
      ],
      "metadata": {
        "colab": {
          "base_uri": "https://localhost:8080/"
        },
        "id": "nHtKGU4Jme6X",
        "outputId": "72d34133-4dab-4959-aca8-40c314f7129d"
      },
      "execution_count": null,
      "outputs": [
        {
          "output_type": "execute_result",
          "data": {
            "text/plain": [
              "2304"
            ]
          },
          "metadata": {},
          "execution_count": 19
        }
      ]
    },
    {
      "cell_type": "code",
      "source": [
        "def convert_to_image(row):\n",
        "    pixels, emotion = row['pixels'], emotion_map[row['emotion']]\n",
        "    img = np.array(pixels.split())\n",
        "    img = img.reshape(48,48)\n",
        "\n",
        "    return np.array([img.astype(np.uint8), emotion])\n",
        "\n",
        "plt.figure(0, figsize=(16,10))\n",
        "for i in range(1,8):\n",
        "    face = data[data['emotion'] == i-1].iloc[4]\n",
        "    img = convert_to_image(face)\n",
        "    plt.subplot(2,4,i)\n",
        "    plt.imshow(img[0], cmap='gray', vmin=0, vmax=255)\n",
        "    plt.title(img[1])\n",
        "\n",
        "plt.show()"
      ],
      "metadata": {
        "colab": {
          "base_uri": "https://localhost:8080/",
          "height": 609
        },
        "id": "PGf_n8tyP3K0",
        "outputId": "1641b566-38fd-4924-fbc1-d9bc60e37546"
      },
      "execution_count": null,
      "outputs": [
        {
          "output_type": "stream",
          "name": "stderr",
          "text": [
            "/usr/local/lib/python3.7/dist-packages/ipykernel_launcher.py:6: VisibleDeprecationWarning: Creating an ndarray from ragged nested sequences (which is a list-or-tuple of lists-or-tuples-or ndarrays with different lengths or shapes) is deprecated. If you meant to do this, you must specify 'dtype=object' when creating the ndarray.\n",
            "  \n"
          ]
        },
        {
          "output_type": "display_data",
          "data": {
            "text/plain": [
              "<Figure size 1152x720 with 7 Axes>"
            ],
            "image/png": "[encoded data removed]"
          },
          "metadata": {
            "needs_background": "light"
          }
        }
      ]
    },
    {
      "cell_type": "code",
      "source": [
        "type(data_train)"
      ],
      "metadata": {
        "colab": {
          "base_uri": "https://localhost:8080/"
        },
        "id": "YczOSkcMNk5V",
        "outputId": "fdb1d6aa-3c54-4fff-faf1-bb2c6ab7d2a9"
      },
      "execution_count": null,
      "outputs": [
        {
          "output_type": "execute_result",
          "data": {
            "text/plain": [
              "pandas.core.frame.DataFrame"
            ]
          },
          "metadata": {},
          "execution_count": 5
        }
      ]
    },
    {
      "cell_type": "code",
      "source": [
        "emotion_map = {0: 'Angry', 1: 'Digust', 2: 'Fear', 3: 'Happy', 4: 'Sad', 5: 'Surprise', 6: 'Neutral'}\n",
        "for i in Y.index:\n",
        "    print(emotion_map[i])"
      ],
      "metadata": {
        "colab": {
          "base_uri": "https://localhost:8080/"
        },
        "id": "zdLrJsjWGXzM",
        "outputId": "717ea0f7-47a1-4b9e-8097-e56f2115ed24"
      },
      "execution_count": null,
      "outputs": [
        {
          "output_type": "stream",
          "name": "stdout",
          "text": [
            "Angry\n",
            "Fear\n",
            "Sad\n",
            "Neutral\n",
            "Happy\n",
            "Surprise\n",
            "Digust\n"
          ]
        }
      ]
    },
    {
      "cell_type": "code",
      "source": [
        "z = data_test['emotion'].value_counts(sort=False)\n",
        "for i in z.index:\n",
        "    print(emotion_map[i])"
      ],
      "metadata": {
        "colab": {
          "base_uri": "https://localhost:8080/"
        },
        "id": "JgFYIXStG5vm",
        "outputId": "8690cf9a-1e7d-4657-f1d1-b5664ad6c5be"
      },
      "execution_count": null,
      "outputs": [
        {
          "output_type": "stream",
          "name": "stdout",
          "text": [
            "Angry\n",
            "Surprise\n",
            "Neutral\n",
            "Sad\n",
            "Fear\n",
            "Happy\n",
            "Digust\n"
          ]
        }
      ]
    },
    {
      "cell_type": "code",
      "source": [
        "emotion_map = {0: 'Angry', 1: 'Digust', 2: 'Fear', 3: 'Happy', 4: 'Sad', 5: 'Surprise', 6: 'Neutral'}\n",
        "def setup_axe(axe,df,title):\n",
        "    y = df['emotion'].value_counts(sort=False)\n",
        "    pos = [i for i in range(10,71,10)]\n",
        "    axe.bar(pos, y, width=4)\n",
        "    axe.set_xticks(pos)\n",
        "    axe.set_xticklabels([emotion_map[i] for i in y.index], fontsize=14)\n",
        "    axe.set_xlabel(\"Emotions\")\n",
        "    axe.set_ylabel(\"Number\")\n",
        "    axe.set_title(title)\n",
        "   \n",
        "fig, ax = plt.subplots(1,3, figsize=(25, 10), sharey=True) \n",
        "setup_axe(ax[0],data_train,'train')\n",
        "setup_axe(ax[1],data_val,'validation')\n",
        "setup_axe(ax[2],data_test,'test')\n",
        "plt.show()"
      ],
      "metadata": {
        "colab": {
          "base_uri": "https://localhost:8080/",
          "height": 625
        },
        "id": "0EBETwfLQtqM",
        "outputId": "245357d2-c45b-4c92-d76b-d60394928ee3"
      },
      "execution_count": null,
      "outputs": [
        {
          "output_type": "display_data",
          "data": {
            "text/plain": [
              "<Figure size 1800x720 with 3 Axes>"
            ],
            "image/png": "[encoded data removed]"
          },
          "metadata": {
            "needs_background": "light"
          }
        }
      ]
    },
    {
      "cell_type": "code",
      "source": [
        "data_train['pixels']"
      ],
      "metadata": {
        "id": "FquDBhXbFxTN",
        "colab": {
          "base_uri": "https://localhost:8080/"
        },
        "outputId": "8a44d234-ef96-418b-f54e-8829e507d875"
      },
      "execution_count": null,
      "outputs": [
        {
          "output_type": "execute_result",
          "data": {
            "text/plain": [
              "0        70 80 82 72 58 58 60 63 54 58 60 48 89 115 121...\n",
              "1        151 150 147 155 148 133 111 140 170 174 182 15...\n",
              "2        231 212 156 164 174 138 161 173 182 200 106 38...\n",
              "3        24 32 36 30 32 23 19 20 30 41 21 22 32 34 21 1...\n",
              "4        4 0 0 0 0 0 0 0 0 0 0 0 3 15 23 28 48 50 58 84...\n",
              "                               ...                        \n",
              "28704    84 85 85 85 85 85 85 85 86 86 86 87 86 86 91 9...\n",
              "28705    114 112 113 113 111 111 112 113 115 113 114 11...\n",
              "28706    74 81 87 89 95 100 98 93 105 120 127 133 146 1...\n",
              "28707    222 227 203 90 86 90 84 77 94 87 99 119 134 14...\n",
              "28708    195 199 205 206 205 203 206 209 208 210 212 21...\n",
              "Name: pixels, Length: 28709, dtype: object"
            ]
          },
          "metadata": {},
          "execution_count": 5
        }
      ]
    },
    {
      "cell_type": "code",
      "source": [
        "for i in range(28708):\n",
        "    print(data_train['pixels'][i].split())\n",
        "    break"
      ],
      "metadata": {
        "colab": {
          "base_uri": "https://localhost:8080/"
        },
        "id": "sy6ci96Rk0ED",
        "outputId": "33c78c92-9724-496e-d62e-8c9655c02453"
      },
      "execution_count": null,
      "outputs": [
        {
          "output_type": "stream",
          "name": "stdout",
          "text": [
            "['70', '80', '82', '72', '58', '58', '60', '63', '54', '58', '60', '48', '89', '115', '121', '119', '115', '110', '98', '91', '84', '84', '90', '99', '110', '126', '143', '153', '158', '171', '169', '172', '169', '165', '129', '110', '113', '107', '95', '79', '66', '62', '56', '57', '61', '52', '43', '41', '65', '61', '58', '57', '56', '69', '75', '70', '65', '56', '54', '105', '146', '154', '151', '151', '155', '155', '150', '147', '147', '148', '152', '158', '164', '172', '177', '182', '186', '189', '188', '190', '188', '180', '167', '116', '95', '103', '97', '77', '72', '62', '55', '58', '54', '56', '52', '44', '50', '43', '54', '64', '63', '71', '68', '64', '52', '66', '119', '156', '161', '164', '163', '164', '167', '168', '170', '174', '175', '176', '178', '179', '183', '187', '190', '195', '197', '198', '197', '198', '195', '191', '190', '145', '86', '100', '90', '65', '57', '60', '54', '51', '41', '49', '56', '47', '38', '44', '63', '55', '46', '52', '54', '55', '83', '138', '157', '158', '165', '168', '172', '171', '173', '176', '179', '179', '180', '182', '185', '187', '189', '189', '192', '197', '200', '199', '196', '198', '200', '198', '197', '177', '91', '87', '96', '58', '58', '59', '51', '42', '37', '41', '47', '45', '37', '35', '36', '30', '41', '47', '59', '94', '141', '159', '161', '161', '164', '170', '171', '172', '176', '178', '179', '182', '183', '183', '187', '189', '192', '192', '194', '195', '200', '200', '199', '199', '200', '201', '197', '193', '111', '71', '108', '69', '55', '61', '51', '42', '43', '56', '54', '44', '24', '29', '31', '45', '61', '72', '100', '136', '150', '159', '163', '162', '163', '170', '172', '171', '174', '177', '177', '180', '187', '186', '187', '189', '192', '192', '194', '195', '196', '197', '199', '200', '201', '200', '197', '201', '137', '58', '98', '92', '57', '62', '53', '47', '41', '40', '51', '43', '24', '35', '52', '63', '75', '104', '129', '143', '149', '158', '162', '164', '166', '171', '173', '172', '174', '178', '178', '179', '187', '188', '188', '191', '193', '194', '195', '198', '199', '199', '197', '198', '197', '197', '197', '201', '164', '52', '78', '87', '69', '58', '56', '50', '54', '39', '44', '42', '26', '31', '49', '65', '91', '119', '134', '145', '147', '152', '159', '163', '167', '171', '170', '169', '174', '178', '178', '179', '187', '187', '185', '187', '190', '188', '187', '191', '197', '201', '199', '199', '200', '197', '196', '197', '182', '58', '62', '77', '61', '60', '55', '49', '59', '52', '54', '44', '22', '30', '47', '68', '102', '123', '136', '144', '148', '150', '153', '157', '167', '172', '173', '170', '171', '177', '179', '178', '186', '190', '186', '189', '196', '193', '191', '194', '190', '190', '192', '197', '201', '203', '199', '194', '189', '69', '48', '74', '56', '60', '57', '50', '59', '59', '51', '41', '20', '34', '47', '79', '111', '132', '139', '143', '145', '147', '150', '151', '160', '169', '172', '171', '167', '171', '177', '177', '174', '180', '182', '181', '192', '196', '189', '192', '198', '195', '194', '196', '198', '201', '202', '195', '189', '70', '39', '69', '61', '61', '61', '53', '59', '59', '45', '40', '26', '40', '61', '93', '124', '135', '138', '142', '144', '146', '151', '152', '158', '165', '168', '168', '165', '161', '164', '173', '172', '167', '172', '167', '180', '198', '198', '193', '199', '195', '194', '198', '200', '198', '197', '195', '190', '65', '35', '68', '59', '59', '62', '57', '60', '59', '50', '44', '32', '54', '90', '115', '132', '137', '138', '140', '144', '146', '146', '156', '165', '168', '174', '176', '176', '175', '168', '168', '169', '171', '175', '171', '172', '192', '194', '184', '198', '205', '201', '194', '195', '193', '195', '192', '186', '57', '38', '72', '65', '57', '62', '58', '57', '60', '54', '49', '47', '79', '116', '130', '138', '141', '141', '139', '141', '143', '145', '157', '164', '164', '166', '173', '174', '176', '179', '179', '176', '181', '189', '188', '173', '180', '175', '160', '182', '189', '198', '192', '189', '190', '190', '188', '172', '46', '44', '64', '66', '59', '62', '57', '56', '62', '53', '50', '66', '103', '133', '137', '141', '143', '141', '136', '132', '131', '136', '127', '118', '111', '107', '108', '123', '131', '143', '154', '158', '166', '177', '181', '175', '170', '159', '148', '171', '161', '176', '185', '192', '194', '188', '190', '162', '53', '49', '58', '63', '61', '61', '55', '56', '61', '51', '50', '81', '116', '139', '142', '142', '146', '144', '136', '128', '119', '112', '97', '85', '90', '91', '88', '92', '90', '80', '81', '84', '106', '122', '132', '144', '145', '144', '147', '163', '147', '163', '173', '181', '190', '187', '191', '167', '61', '48', '53', '61', '61', '58', '54', '56', '61', '51', '53', '89', '123', '140', '144', '145', '146', '147', '136', '122', '107', '99', '95', '92', '90', '87', '83', '76', '67', '52', '46', '52', '63', '69', '83', '96', '119', '132', '148', '159', '136', '137', '143', '138', '143', '152', '156', '156', '70', '48', '50', '59', '61', '57', '54', '54', '61', '52', '56', '93', '124', '135', '140', '144', '148', '150', '140', '125', '114', '101', '80', '54', '56', '54', '41', '41', '33', '40', '39', '35', '49', '60', '63', '74', '107', '129', '147', '147', '116', '111', '100', '77', '76', '86', '108', '111', '73', '49', '50', '60', '62', '60', '57', '55', '63', '59', '56', '89', '121', '134', '139', '146', '151', '152', '150', '141', '127', '111', '96', '77', '85', '70', '32', '31', '37', '91', '65', '50', '48', '59', '73', '83', '112', '136', '155', '130', '60', '46', '38', '40', '43', '81', '116', '91', '72', '52', '48', '58', '62', '62', '59', '53', '61', '59', '52', '85', '114', '134', '140', '147', '154', '159', '158', '153', '145', '143', '150', '126', '121', '125', '68', '45', '89', '137', '95', '70', '78', '75', '95', '109', '131', '153', '171', '94', '23', '16', '32', '82', '82', '65', '113', '77', '71', '54', '48', '56', '62', '62', '60', '53', '60', '56', '52', '75', '108', '133', '141', '149', '158', '166', '169', '167', '163', '156', '155', '146', '112', '119', '134', '127', '142', '140', '121', '117', '129', '114', '120', '129', '146', '174', '191', '98', '46', '33', '33', '109', '147', '98', '109', '67', '73', '55', '50', '56', '64', '64', '61', '58', '61', '53', '54', '64', '106', '129', '140', '148', '159', '169', '175', '176', '174', '165', '159', '156', '145', '120', '115', '124', '127', '131', '133', '141', '147', '142', '141', '147', '161', '182', '202', '154', '114', '96', '100', '158', '158', '153', '123', '61', '76', '57', '48', '56', '64', '64', '63', '62', '61', '54', '55', '44', '97', '131', '137', '147', '158', '168', '177', '181', '183', '179', '170', '168', '169', '165', '155', '152', '151', '152', '154', '162', '165', '158', '153', '158', '168', '187', '206', '186', '147', '135', '144', '145', '152', '178', '115', '57', '74', '58', '48', '58', '64', '63', '63', '59', '63', '55', '53', '66', '104', '130', '132', '144', '153', '162', '170', '180', '185', '187', '181', '178', '182', '180', '177', '173', '171', '171', '177', '176', '172', '164', '161', '167', '164', '185', '207', '197', '173', '152', '141', '141', '161', '191', '104', '54', '69', '60', '48', '57', '65', '62', '60', '57', '64', '55', '50', '94', '111', '124', '130', '135', '150', '159', '163', '172', '179', '184', '184', '178', '178', '177', '173', '171', '174', '177', '178', '176', '169', '165', '161', '163', '161', '180', '205', '201', '183', '171', '177', '178', '180', '194', '101', '55', '65', '60', '47', '55', '65', '63', '59', '58', '63', '57', '52', '90', '105', '117', '122', '130', '143', '153', '157', '163', '171', '174', '182', '183', '182', '178', '174', '175', '175', '177', '175', '172', '163', '161', '159', '157', '162', '178', '200', '201', '188', '181', '172', '177', '187', '198', '98', '57', '63', '61', '48', '52', '61', '64', '63', '60', '65', '57', '51', '95', '104', '113', '117', '127', '136', '145', '152', '156', '162', '162', '165', '173', '177', '182', '183', '183', '180', '181', '177', '165', '153', '154', '152', '153', '160', '174', '193', '200', '188', '185', '180', '182', '192', '196', '101', '60', '60', '56', '49', '50', '60', '66', '64', '62', '64', '59', '53', '99', '104', '111', '112', '118', '132', '142', '147', '155', '158', '160', '159', '162', '171', '176', '184', '186', '183', '180', '169', '154', '141', '135', '145', '155', '164', '180', '196', '205', '188', '189', '188', '189', '193', '192', '98', '61', '64', '55', '49', '49', '60', '66', '63', '64', '63', '60', '57', '99', '105', '108', '112', '113', '125', '139', '143', '150', '155', '158', '164', '169', '174', '176', '182', '183', '182', '177', '163', '141', '133', '147', '151', '164', '170', '185', '200', '210', '194', '188', '192', '186', '185', '180', '88', '64', '67', '60', '46', '50', '59', '65', '64', '64', '64', '59', '56', '101', '103', '108', '109', '109', '118', '134', '143', '143', '147', '155', '159', '166', '171', '174', '177', '179', '178', '172', '153', '129', '143', '161', '159', '166', '171', '186', '197', '207', '203', '185', '191', '183', '179', '164', '73', '67', '67', '66', '48', '50', '57', '65', '65', '63', '64', '61', '57', '103', '108', '114', '112', '110', '115', '128', '138', '144', '145', '152', '156', '159', '164', '168', '172', '172', '169', '161', '139', '125', '147', '156', '161', '162', '164', '180', '188', '188', '197', '185', '187', '181', '180', '137', '65', '70', '68', '70', '52', '47', '53', '62', '65', '63', '65', '61', '58', '105', '109', '112', '120', '113', '112', '122', '134', '141', '149', '150', '153', '155', '159', '164', '167', '167', '162', '152', '134', '115', '126', '119', '106', '99', '109', '141', '158', '150', '155', '175', '184', '176', '175', '106', '63', '70', '68', '68', '50', '46', '50', '57', '63', '63', '64', '61', '59', '107', '110', '110', '117', '117', '114', '117', '128', '137', '147', '148', '150', '153', '156', '161', '162', '163', '156', '150', '148', '105', '70', '45', '26', '25', '47', '73', '74', '79', '128', '177', '180', '173', '157', '77', '66', '68', '67', '68', '52', '49', '51', '56', '62', '62', '62', '62', '60', '101', '107', '108', '114', '115', '114', '117', '125', '134', '143', '148', '149', '152', '154', '158', '160', '158', '155', '160', '158', '132', '88', '73', '73', '64', '52', '66', '91', '138', '160', '174', '173', '171', '125', '64', '67', '63', '64', '68', '54', '50', '49', '54', '60', '60', '60', '62', '60', '98', '105', '105', '109', '111', '114', '117', '125', '131', '139', '145', '148', '153', '153', '156', '157', '156', '161', '168', '165', '153', '139', '122', '115', '105', '89', '103', '150', '182', '161', '171', '173', '162', '89', '64', '64', '62', '64', '69', '56', '48', '49', '56', '58', '60', '59', '62', '60', '89', '99', '108', '106', '109', '111', '119', '120', '125', '134', '140', '146', '152', '153', '153', '153', '156', '159', '162', '160', '150', '136', '129', '133', '133', '122', '133', '148', '178', '168', '168', '175', '132', '61', '67', '66', '65', '63', '69', '57', '47', '50', '55', '58', '59', '61', '62', '60', '89', '96', '105', '107', '105', '107', '117', '120', '123', '124', '133', '141', '149', '153', '151', '145', '151', '145', '139', '140', '138', '128', '126', '124', '129', '125', '136', '142', '164', '172', '168', '168', '87', '58', '67', '63', '62', '61', '69', '57', '39', '44', '55', '56', '59', '63', '62', '62', '84', '91', '92', '98', '102', '103', '113', '119', '121', '118', '128', '138', '146', '151', '147', '142', '140', '128', '127', '128', '129', '126', '135', '140', '135', '130', '143', '146', '149', '166', '174', '131', '62', '65', '62', '59', '67', '63', '68', '83', '89', '65', '42', '52', '60', '60', '62', '63', '77', '84', '84', '91', '99', '101', '107', '112', '117', '118', '122', '134', '145', '149', '144', '134', '127', '127', '129', '130', '134', '125', '126', '132', '152', '153', '151', '150', '151', '165', '171', '87', '59', '65', '64', '61', '58', '86', '122', '138', '208', '207', '154', '71', '52', '56', '55', '56', '69', '77', '83', '85', '93', '91', '102', '112', '116', '118', '119', '127', '140', '144', '142', '131', '112', '95', '85', '75', '62', '58', '56', '59', '87', '88', '83', '127', '142', '165', '149', '62', '65', '62', '59', '77', '113', '192', '156', '84', '185', '196', '197', '168', '81', '70', '75', '69', '58', '65', '73', '82', '81', '79', '95', '107', '114', '116', '116', '123', '136', '142', '136', '132', '131', '102', '71', '58', '49', '41', '33', '41', '36', '49', '60', '99', '136', '168', '111', '53', '63', '71', '138', '186', '203', '195', '146', '87', '91', '72', '79', '95', '103', '82', '61', '74', '55', '57', '68', '75', '76', '77', '84', '96', '106', '110', '111', '121', '130', '138', '136', '142', '153', '159', '152', '152', '154', '145', '133', '136', '147', '158', '156', '155', '147', '158', '74', '57', '60', '123', '181', '174', '126', '89', '72', '67', '57', '43', '55', '67', '76', '86', '60', '45', '51', '45', '52', '68', '75', '73', '77', '88', '96', '100', '104', '113', '115', '121', '134', '146', '149', '146', '149', '148', '155', '168', '174', '179', '178', '169', '169', '174', '161', '131', '44', '47', '82', '150', '168', '136', '104', '75', '66', '80', '67', '58', '48', '54', '68', '88', '121', '102', '51', '45', '38', '53', '66', '65', '70', '86', '92', '96', '102', '103', '109', '116', '130', '136', '136', '133', '136', '138', '137', '135', '128', '130', '143', '158', '165', '164', '147', '87', '62', '74', '123', '160', '170', '100', '99', '107', '79', '71', '86', '75', '57', '45', '49', '65', '122', '130', '43', '48', '40', '39', '55', '61', '59', '71', '82', '87', '88', '93', '105', '118', '123', '128', '130', '124', '111', '98', '94', '88', '67', '55', '84', '129', '147', '148', '105', '48', '82', '142', '161', '164', '164', '76', '72', '85', '100', '88', '72', '90', '84', '54', '48', '54', '73', '100', '73', '36', '44', '31', '37', '53', '51', '55', '67', '74', '77', '87', '97', '108', '118', '125', '132', '122', '106', '86', '80', '82', '75', '73', '83', '110', '129', '126', '46', '22', '130', '177', '196', '193', '166', '72', '52', '54', '73', '100', '92', '75', '99', '95', '65', '68', '61', '63', '91', '65', '42', '37', '22', '28', '39', '44', '57', '68', '74', '83', '92', '101', '119', '131', '143', '141', '134', '136', '140', '139', '134', '136', '139', '138', '136', '85', '23', '114', '202', '198', '199', '180', '173', '98', '36', '86', '130', '150', '137', '99', '77', '101', '99', '72', '56', '43', '77', '82', '79', '70', '56', '28', '20', '25', '36', '50', '63', '73', '83', '98', '111', '124', '139', '156', '160', '159', '169', '168', '165', '163', '159', '149', '114', '43', '26', '133', '183', '192', '177', '152', '137', '130', '125', '139', '173', '195', '186', '137', '101', '88', '101', '105', '70', '46', '77', '72', '84', '87', '87', '81', '64', '37', '20', '31', '40', '46', '65', '88', '108', '110', '125', '149', '157', '153', '162', '164', '158', '159', '154', '140', '78', '21', '11', '61', '144', '168', '173', '157', '138', '150', '148', '132', '159', '182', '183', '136', '106', '116', '95', '106', '109', '82']\n"
          ]
        }
      ]
    },
    {
      "cell_type": "code",
      "source": [
        "data_train['emotion']"
      ],
      "metadata": {
        "colab": {
          "base_uri": "https://localhost:8080/"
        },
        "id": "p8kpGw-Rj5zt",
        "outputId": "df7e37f5-cdf9-4f55-c9a6-461e3934ae7e"
      },
      "execution_count": null,
      "outputs": [
        {
          "output_type": "execute_result",
          "data": {
            "text/plain": [
              "0        0\n",
              "1        0\n",
              "2        2\n",
              "3        4\n",
              "4        6\n",
              "        ..\n",
              "28704    2\n",
              "28705    0\n",
              "28706    4\n",
              "28707    0\n",
              "28708    4\n",
              "Name: emotion, Length: 28709, dtype: int64"
            ]
          },
          "metadata": {},
          "execution_count": 6
        }
      ]
    },
    {
      "cell_type": "code",
      "source": [
        "#split data into training, validation and test set\n",
        "data_train = data[data['Usage']=='Training'].copy()\n",
        "options = ['PublicTest', 'PrivateTest']\n",
        "data_test  = data[data['Usage'].isin(options)].copy()\n",
        "print(f\"train shape: {data_train.shape},\\\n",
        "        \\ntest shape: {data_test.shape}\")"
      ],
      "metadata": {
        "colab": {
          "base_uri": "https://localhost:8080/"
        },
        "id": "ccXkHfKoQGIj",
        "outputId": "92cb43a0-01ba-410e-9ea9-42b10ef80606"
      },
      "execution_count": null,
      "outputs": [
        {
          "output_type": "stream",
          "name": "stdout",
          "text": [
            "train shape: (28709, 3),        \n",
            "test shape: (7178, 3)\n"
          ]
        }
      ]
    },
    {
      "cell_type": "code",
      "source": [
        "data_train"
      ],
      "metadata": {
        "colab": {
          "base_uri": "https://localhost:8080/",
          "height": 424
        },
        "id": "jsXj8FhIlIh5",
        "outputId": "e769552b-7e76-4d2a-b79c-33b74a18e7d1"
      },
      "execution_count": null,
      "outputs": [
        {
          "output_type": "execute_result",
          "data": {
            "text/plain": [
              "       emotion                                             pixels     Usage\n",
              "0            0  70 80 82 72 58 58 60 63 54 58 60 48 89 115 121...  Training\n",
              "1            0  151 150 147 155 148 133 111 140 170 174 182 15...  Training\n",
              "2            2  231 212 156 164 174 138 161 173 182 200 106 38...  Training\n",
              "3            4  24 32 36 30 32 23 19 20 30 41 21 22 32 34 21 1...  Training\n",
              "4            6  4 0 0 0 0 0 0 0 0 0 0 0 3 15 23 28 48 50 58 84...  Training\n",
              "...        ...                                                ...       ...\n",
              "28704        2  84 85 85 85 85 85 85 85 86 86 86 87 86 86 91 9...  Training\n",
              "28705        0  114 112 113 113 111 111 112 113 115 113 114 11...  Training\n",
              "28706        4  74 81 87 89 95 100 98 93 105 120 127 133 146 1...  Training\n",
              "28707        0  222 227 203 90 86 90 84 77 94 87 99 119 134 14...  Training\n",
              "28708        4  195 199 205 206 205 203 206 209 208 210 212 21...  Training\n",
              "\n",
              "[28709 rows x 3 columns]"
            ],
            "text/html": [
              "\n",
              "  <div id=\"df-1f7ca397-683e-4a73-a51b-607d5aad7781\">\n",
              "    <div class=\"colab-df-container\">\n",
              "      <div>\n",
              "<style scoped>\n",
              "    .dataframe tbody tr th:only-of-type {\n",
              "        vertical-align: middle;\n",
              "    }\n",
              "\n",
              "    .dataframe tbody tr th {\n",
              "        vertical-align: top;\n",
              "    }\n",
              "\n",
              "    .dataframe thead th {\n",
              "        text-align: right;\n",
              "    }\n",
              "</style>\n",
              "<table border=\"1\" class=\"dataframe\">\n",
              "  <thead>\n",
              "    <tr style=\"text-align: right;\">\n",
              "      <th></th>\n",
              "      <th>emotion</th>\n",
              "      <th>pixels</th>\n",
              "      <th>Usage</th>\n",
              "    </tr>\n",
              "  </thead>\n",
              "  <tbody>\n",
              "    <tr>\n",
              "      <th>0</th>\n",
              "      <td>0</td>\n",
              "      <td>70 80 82 72 58 58 60 63 54 58 60 48 89 115 121...</td>\n",
              "      <td>Training</td>\n",
              "    </tr>\n",
              "    <tr>\n",
              "      <th>1</th>\n",
              "      <td>0</td>\n",
              "      <td>151 150 147 155 148 133 111 140 170 174 182 15...</td>\n",
              "      <td>Training</td>\n",
              "    </tr>\n",
              "    <tr>\n",
              "      <th>2</th>\n",
              "      <td>2</td>\n",
              "      <td>231 212 156 164 174 138 161 173 182 200 106 38...</td>\n",
              "      <td>Training</td>\n",
              "    </tr>\n",
              "    <tr>\n",
              "      <th>3</th>\n",
              "      <td>4</td>\n",
              "      <td>24 32 36 30 32 23 19 20 30 41 21 22 32 34 21 1...</td>\n",
              "      <td>Training</td>\n",
              "    </tr>\n",
              "    <tr>\n",
              "      <th>4</th>\n",
              "      <td>6</td>\n",
              "      <td>4 0 0 0 0 0 0 0 0 0 0 0 3 15 23 28 48 50 58 84...</td>\n",
              "      <td>Training</td>\n",
              "    </tr>\n",
              "    <tr>\n",
              "      <th>...</th>\n",
              "      <td>...</td>\n",
              "      <td>...</td>\n",
              "      <td>...</td>\n",
              "    </tr>\n",
              "    <tr>\n",
              "      <th>28704</th>\n",
              "      <td>2</td>\n",
              "      <td>84 85 85 85 85 85 85 85 86 86 86 87 86 86 91 9...</td>\n",
              "      <td>Training</td>\n",
              "    </tr>\n",
              "    <tr>\n",
              "      <th>28705</th>\n",
              "      <td>0</td>\n",
              "      <td>114 112 113 113 111 111 112 113 115 113 114 11...</td>\n",
              "      <td>Training</td>\n",
              "    </tr>\n",
              "    <tr>\n",
              "      <th>28706</th>\n",
              "      <td>4</td>\n",
              "      <td>74 81 87 89 95 100 98 93 105 120 127 133 146 1...</td>\n",
              "      <td>Training</td>\n",
              "    </tr>\n",
              "    <tr>\n",
              "      <th>28707</th>\n",
              "      <td>0</td>\n",
              "      <td>222 227 203 90 86 90 84 77 94 87 99 119 134 14...</td>\n",
              "      <td>Training</td>\n",
              "    </tr>\n",
              "    <tr>\n",
              "      <th>28708</th>\n",
              "      <td>4</td>\n",
              "      <td>195 199 205 206 205 203 206 209 208 210 212 21...</td>\n",
              "      <td>Training</td>\n",
              "    </tr>\n",
              "  </tbody>\n",
              "</table>\n",
              "<p>28709 rows × 3 columns</p>\n",
              "</div>\n",
              "      <button class=\"colab-df-convert\" onclick=\"convertToInteractive('df-1f7ca397-683e-4a73-a51b-607d5aad7781')\"\n",
              "              title=\"Convert this dataframe to an interactive table.\"\n",
              "              style=\"display:none;\">\n",
              "        \n",
              "  <svg xmlns=\"http://www.w3.org/2000/svg\" height=\"24px\"viewBox=\"0 0 24 24\"\n",
              "       width=\"24px\">\n",
              "    <path d=\"M0 0h24v24H0V0z\" fill=\"none\"/>\n",
              "    <path d=\"M18.56 5.44l.94 2.06.94-2.06 2.06-.94-2.06-.94-.94-2.06-.94 2.06-2.06.94zm-11 1L8.5 8.5l.94-2.06 2.06-.94-2.06-.94L8.5 2.5l-.94 2.06-2.06.94zm10 10l.94 2.06.94-2.06 2.06-.94-2.06-.94-.94-2.06-.94 2.06-2.06.94z\"/><path d=\"M17.41 7.96l-1.37-1.37c-.4-.4-.92-.59-1.43-.59-.52 0-1.04.2-1.43.59L10.3 9.45l-7.72 7.72c-.78.78-.78 2.05 0 2.83L4 21.41c.39.39.9.59 1.41.59.51 0 1.02-.2 1.41-.59l7.78-7.78 2.81-2.81c.8-.78.8-2.07 0-2.86zM5.41 20L4 18.59l7.72-7.72 1.47 1.35L5.41 20z\"/>\n",
              "  </svg>\n",
              "      </button>\n",
              "      \n",
              "  <style>\n",
              "    .colab-df-container {\n",
              "      display:flex;\n",
              "      flex-wrap:wrap;\n",
              "      gap: 12px;\n",
              "    }\n",
              "\n",
              "    .colab-df-convert {\n",
              "      background-color: #E8F0FE;\n",
              "      border: none;\n",
              "      border-radius: 50%;\n",
              "      cursor: pointer;\n",
              "      display: none;\n",
              "      fill: #1967D2;\n",
              "      height: 32px;\n",
              "      padding: 0 0 0 0;\n",
              "      width: 32px;\n",
              "    }\n",
              "\n",
              "    .colab-df-convert:hover {\n",
              "      background-color: #E2EBFA;\n",
              "      box-shadow: 0px 1px 2px rgba(60, 64, 67, 0.3), 0px 1px 3px 1px rgba(60, 64, 67, 0.15);\n",
              "      fill: #174EA6;\n",
              "    }\n",
              "\n",
              "    [theme=dark] .colab-df-convert {\n",
              "      background-color: #3B4455;\n",
              "      fill: #D2E3FC;\n",
              "    }\n",
              "\n",
              "    [theme=dark] .colab-df-convert:hover {\n",
              "      background-color: #434B5C;\n",
              "      box-shadow: 0px 1px 3px 1px rgba(0, 0, 0, 0.15);\n",
              "      filter: drop-shadow(0px 1px 2px rgba(0, 0, 0, 0.3));\n",
              "      fill: #FFFFFF;\n",
              "    }\n",
              "  </style>\n",
              "\n",
              "      <script>\n",
              "        const buttonEl =\n",
              "          document.querySelector('#df-1f7ca397-683e-4a73-a51b-607d5aad7781 button.colab-df-convert');\n",
              "        buttonEl.style.display =\n",
              "          google.colab.kernel.accessAllowed ? 'block' : 'none';\n",
              "\n",
              "        async function convertToInteractive(key) {\n",
              "          const element = document.querySelector('#df-1f7ca397-683e-4a73-a51b-607d5aad7781');\n",
              "          const dataTable =\n",
              "            await google.colab.kernel.invokeFunction('convertToInteractive',\n",
              "                                                     [key], {});\n",
              "          if (!dataTable) return;\n",
              "\n",
              "          const docLinkHtml = 'Like what you see? Visit the ' +\n",
              "            '<a target=\"_blank\" href=https://colab.research.google.com/notebooks/data_table.ipynb>data table notebook</a>'\n",
              "            + ' to learn more about interactive tables.';\n",
              "          element.innerHTML = '';\n",
              "          dataTable['output_type'] = 'display_data';\n",
              "          await google.colab.output.renderOutput(dataTable, element);\n",
              "          const docLink = document.createElement('div');\n",
              "          docLink.innerHTML = docLinkHtml;\n",
              "          element.appendChild(docLink);\n",
              "        }\n",
              "      </script>\n",
              "    </div>\n",
              "  </div>\n",
              "  "
            ]
          },
          "metadata": {},
          "execution_count": 4
        }
      ]
    },
    {
      "cell_type": "code",
      "source": [
        "train_y = pd.DataFrame([emotion_map[i] for i in data_train['emotion']], columns=['labels'])\n",
        "train_y"
      ],
      "metadata": {
        "colab": {
          "base_uri": "https://localhost:8080/",
          "height": 424
        },
        "id": "rFcJdJnmp6aO",
        "outputId": "9598f1ad-e4a2-41aa-f3e8-06948dc986ee"
      },
      "execution_count": null,
      "outputs": [
        {
          "output_type": "execute_result",
          "data": {
            "text/plain": [
              "        labels\n",
              "0        Angry\n",
              "1        Angry\n",
              "2         Fear\n",
              "3          Sad\n",
              "4      Neutral\n",
              "...        ...\n",
              "28704     Fear\n",
              "28705    Angry\n",
              "28706      Sad\n",
              "28707    Angry\n",
              "28708      Sad\n",
              "\n",
              "[28709 rows x 1 columns]"
            ],
            "text/html": [
              "\n",
              "  <div id=\"df-06685685-078d-44c9-a899-a24eb10cd8c2\">\n",
              "    <div class=\"colab-df-container\">\n",
              "      <div>\n",
              "<style scoped>\n",
              "    .dataframe tbody tr th:only-of-type {\n",
              "        vertical-align: middle;\n",
              "    }\n",
              "\n",
              "    .dataframe tbody tr th {\n",
              "        vertical-align: top;\n",
              "    }\n",
              "\n",
              "    .dataframe thead th {\n",
              "        text-align: right;\n",
              "    }\n",
              "</style>\n",
              "<table border=\"1\" class=\"dataframe\">\n",
              "  <thead>\n",
              "    <tr style=\"text-align: right;\">\n",
              "      <th></th>\n",
              "      <th>labels</th>\n",
              "    </tr>\n",
              "  </thead>\n",
              "  <tbody>\n",
              "    <tr>\n",
              "      <th>0</th>\n",
              "      <td>Angry</td>\n",
              "    </tr>\n",
              "    <tr>\n",
              "      <th>1</th>\n",
              "      <td>Angry</td>\n",
              "    </tr>\n",
              "    <tr>\n",
              "      <th>2</th>\n",
              "      <td>Fear</td>\n",
              "    </tr>\n",
              "    <tr>\n",
              "      <th>3</th>\n",
              "      <td>Sad</td>\n",
              "    </tr>\n",
              "    <tr>\n",
              "      <th>4</th>\n",
              "      <td>Neutral</td>\n",
              "    </tr>\n",
              "    <tr>\n",
              "      <th>...</th>\n",
              "      <td>...</td>\n",
              "    </tr>\n",
              "    <tr>\n",
              "      <th>28704</th>\n",
              "      <td>Fear</td>\n",
              "    </tr>\n",
              "    <tr>\n",
              "      <th>28705</th>\n",
              "      <td>Angry</td>\n",
              "    </tr>\n",
              "    <tr>\n",
              "      <th>28706</th>\n",
              "      <td>Sad</td>\n",
              "    </tr>\n",
              "    <tr>\n",
              "      <th>28707</th>\n",
              "      <td>Angry</td>\n",
              "    </tr>\n",
              "    <tr>\n",
              "      <th>28708</th>\n",
              "      <td>Sad</td>\n",
              "    </tr>\n",
              "  </tbody>\n",
              "</table>\n",
              "<p>28709 rows × 1 columns</p>\n",
              "</div>\n",
              "      <button class=\"colab-df-convert\" onclick=\"convertToInteractive('df-06685685-078d-44c9-a899-a24eb10cd8c2')\"\n",
              "              title=\"Convert this dataframe to an interactive table.\"\n",
              "              style=\"display:none;\">\n",
              "        \n",
              "  <svg xmlns=\"http://www.w3.org/2000/svg\" height=\"24px\"viewBox=\"0 0 24 24\"\n",
              "       width=\"24px\">\n",
              "    <path d=\"M0 0h24v24H0V0z\" fill=\"none\"/>\n",
              "    <path d=\"M18.56 5.44l.94 2.06.94-2.06 2.06-.94-2.06-.94-.94-2.06-.94 2.06-2.06.94zm-11 1L8.5 8.5l.94-2.06 2.06-.94-2.06-.94L8.5 2.5l-.94 2.06-2.06.94zm10 10l.94 2.06.94-2.06 2.06-.94-2.06-.94-.94-2.06-.94 2.06-2.06.94z\"/><path d=\"M17.41 7.96l-1.37-1.37c-.4-.4-.92-.59-1.43-.59-.52 0-1.04.2-1.43.59L10.3 9.45l-7.72 7.72c-.78.78-.78 2.05 0 2.83L4 21.41c.39.39.9.59 1.41.59.51 0 1.02-.2 1.41-.59l7.78-7.78 2.81-2.81c.8-.78.8-2.07 0-2.86zM5.41 20L4 18.59l7.72-7.72 1.47 1.35L5.41 20z\"/>\n",
              "  </svg>\n",
              "      </button>\n",
              "      \n",
              "  <style>\n",
              "    .colab-df-container {\n",
              "      display:flex;\n",
              "      flex-wrap:wrap;\n",
              "      gap: 12px;\n",
              "    }\n",
              "\n",
              "    .colab-df-convert {\n",
              "      background-color: #E8F0FE;\n",
              "      border: none;\n",
              "      border-radius: 50%;\n",
              "      cursor: pointer;\n",
              "      display: none;\n",
              "      fill: #1967D2;\n",
              "      height: 32px;\n",
              "      padding: 0 0 0 0;\n",
              "      width: 32px;\n",
              "    }\n",
              "\n",
              "    .colab-df-convert:hover {\n",
              "      background-color: #E2EBFA;\n",
              "      box-shadow: 0px 1px 2px rgba(60, 64, 67, 0.3), 0px 1px 3px 1px rgba(60, 64, 67, 0.15);\n",
              "      fill: #174EA6;\n",
              "    }\n",
              "\n",
              "    [theme=dark] .colab-df-convert {\n",
              "      background-color: #3B4455;\n",
              "      fill: #D2E3FC;\n",
              "    }\n",
              "\n",
              "    [theme=dark] .colab-df-convert:hover {\n",
              "      background-color: #434B5C;\n",
              "      box-shadow: 0px 1px 3px 1px rgba(0, 0, 0, 0.15);\n",
              "      filter: drop-shadow(0px 1px 2px rgba(0, 0, 0, 0.3));\n",
              "      fill: #FFFFFF;\n",
              "    }\n",
              "  </style>\n",
              "\n",
              "      <script>\n",
              "        const buttonEl =\n",
              "          document.querySelector('#df-06685685-078d-44c9-a899-a24eb10cd8c2 button.colab-df-convert');\n",
              "        buttonEl.style.display =\n",
              "          google.colab.kernel.accessAllowed ? 'block' : 'none';\n",
              "\n",
              "        async function convertToInteractive(key) {\n",
              "          const element = document.querySelector('#df-06685685-078d-44c9-a899-a24eb10cd8c2');\n",
              "          const dataTable =\n",
              "            await google.colab.kernel.invokeFunction('convertToInteractive',\n",
              "                                                     [key], {});\n",
              "          if (!dataTable) return;\n",
              "\n",
              "          const docLinkHtml = 'Like what you see? Visit the ' +\n",
              "            '<a target=\"_blank\" href=https://colab.research.google.com/notebooks/data_table.ipynb>data table notebook</a>'\n",
              "            + ' to learn more about interactive tables.';\n",
              "          element.innerHTML = '';\n",
              "          dataTable['output_type'] = 'display_data';\n",
              "          await google.colab.output.renderOutput(dataTable, element);\n",
              "          const docLink = document.createElement('div');\n",
              "          docLink.innerHTML = docLinkHtml;\n",
              "          element.appendChild(docLink);\n",
              "        }\n",
              "      </script>\n",
              "    </div>\n",
              "  </div>\n",
              "  "
            ]
          },
          "metadata": {},
          "execution_count": 62
        }
      ]
    },
    {
      "cell_type": "code",
      "source": [
        "np.array(list(map(int, data_train['pixels'][0].split())))"
      ],
      "metadata": {
        "colab": {
          "base_uri": "https://localhost:8080/"
        },
        "id": "DYXwNKEQlVjZ",
        "outputId": "6f10262d-f1d6-46dd-8ca7-97c05e314950"
      },
      "execution_count": null,
      "outputs": [
        {
          "output_type": "execute_result",
          "data": {
            "text/plain": [
              "array([ 70,  80,  82, ..., 106, 109,  82])"
            ]
          },
          "metadata": {},
          "execution_count": 59
        }
      ]
    }
  ]
}